{
 "cells": [
  {
   "cell_type": "code",
   "execution_count": 36,
   "id": "civil-glass",
   "metadata": {},
   "outputs": [],
   "source": [
    "# Testing all of the basic workflow of the package\n",
    "from PYTHON.io import *\n",
    "from PYTHON.Atom import *\n",
    "from PYTHON.Bond import *\n",
    "from PYTHON.Molecule import *\n",
    "from PYTHON.Interaction import *\n",
    "from PYTHON.Crystal import *\n",
    "\n",
    "from datetime import datetime\n",
    "import pandas as pd \n",
    "import numpy as np\n",
    "import matplotlib\n",
    "import matplotlib.pyplot as plt\n",
    "from mpl_toolkits.mplot3d import Axes3D\n",
    "%matplotlib qt"
   ]
  },
  {
   "cell_type": "code",
   "execution_count": 2,
   "metadata": {},
   "outputs": [],
   "source": [
    "start = datetime.now()"
   ]
  },
  {
   "source": [
    "# IO Utility"
   ],
   "cell_type": "markdown",
   "metadata": {}
  },
  {
   "cell_type": "code",
   "execution_count": 3,
   "metadata": {},
   "outputs": [],
   "source": [
    "# Test Cif2SUpercell() method\n",
    "Cif2Supercell('LAVPIK.cif',supercell_size=[[5,0,0],[0,5,0],[0,0,5]],output_path='.')"
   ]
  },
  {
   "cell_type": "code",
   "execution_count": 4,
   "metadata": {
    "tags": []
   },
   "outputs": [],
   "source": [
    "# Test Mol2Reader() class\n",
    "mol2_reader = Mol2Reader('supercell.mol2')\n",
    "mols = mol2_reader.read()"
   ]
  },
  {
   "source": [
    "# Get Data"
   ],
   "cell_type": "markdown",
   "metadata": {}
  },
  {
   "cell_type": "code",
   "execution_count": 19,
   "metadata": {},
   "outputs": [],
   "source": [
    "# Add rings as atoms\n",
    "acenes = []\n",
    "bases = []\n",
    "for mol in mols:\n",
    "    mol.add_rings_as_atoms()\n",
    "    mol.assign_atoms_interaction_dict()\n",
    "    basis, xmag = Acene(mol).get_vectors(return_xmag=True)\n",
    "    bases.append(basis)\n",
    "    acenes.append(Acene(mol))"
   ]
  },
  {
   "cell_type": "code",
   "execution_count": 6,
   "metadata": {},
   "outputs": [],
   "source": [
    "# Calculate All Atom Distances\n",
    "all_atoms = []\n",
    "for mol in acenes:\n",
    "    all_atoms.append([atom.coordinates for atom in mol.atoms])\n",
    "all_atoms = np.array(all_atoms)\n",
    "disps = []\n",
    "dists = []\n",
    "mol1s = []\n",
    "mol2s = []\n",
    "# Loop Through each molecule and atom\n",
    "# Use numpy.roll to batch i to i distance, i to i+1 distance\n",
    "# Rather than looping through each atom\n",
    "for i, arr1 in enumerate(all_atoms[:-1]):\n",
    "    for j, arr2 in enumerate(all_atoms[i+1:],i+1):\n",
    "        temp_dist = []\n",
    "        for x in range(len(arr2)):\n",
    "            mol1s += [i]*len(arr2)\n",
    "            mol2s += [j]*len(arr2)\n",
    "            disp = arr2 - arr1\n",
    "            dist2 = disp[:,0] * disp[:,0] + disp[:,1] * disp[:,1] + disp[:,2] * disp[:,2]\n",
    "            dist = np.sqrt(dist2)\n",
    "            temp_dist.append(dist)\n",
    "            arr2 = np.roll(arr2,-1,axis=0)\n",
    "        dists.append(temp_dist)\n",
    "dists = np.array(dists)\n",
    "# Put distances in order of atom indices\n",
    "in_atom_order = np.array([dist.flatten('F') for dist in dists]).reshape(-1)\n",
    "d1 = dists.shape[0]\n",
    "d2 = dists.shape[1]\n",
    "arange = np.arange(d2)\n",
    "atom1s = np.concatenate([[x]*d2 for x in range(d2)]*d1)\n",
    "atom2s = np.concatenate([np.roll(arange,-x) for x in range(d2)]*d1)\n",
    "# Turn Atom Distances to DataFrame\n",
    "data_dict= {'mol1s':mol1s,'mol2s':mol2s,'atom1s':atom1s,'atom2s':atom2s,'dists':in_atom_order}\n",
    "atom_dist_df = pd.DataFrame(data_dict)"
   ]
  },
  {
   "cell_type": "code",
   "execution_count": null,
   "metadata": {},
   "outputs": [],
   "source": [
    "# Calculate Central Molecule Atom Distances\n",
    "# Atom Distances from central molecule\n",
    "central_molecule, central_idx = crystal.get_central_molecule(return_idx=True)\n",
    "central_cog = central_molecule.centre_of_geometry()\n",
    "central_atom_coords = np.array([atom.coordinates for atom in central_molecule.atoms]) # shape = (n_atoms,3)\n",
    "all_atom_coords = []\n",
    "for mol in crystal.molecules:\n",
    "    all_atom_coords.append(np.array([atom.coordinates for atom in mol.atoms]))\n",
    "all_atom_coords = np.array(all_atom_coords) # shape = (n_mols,n_atoms,3) \n",
    "dists = []\n",
    "mol1s = []\n",
    "mol2s = []\n",
    "for i, mol_coords in enumerate(all_atom_coords):\n",
    "    temp_dist = []\n",
    "    for x in range(len(mol_coords)):\n",
    "        mol1s += [central_idx]*len(mol_coords)\n",
    "        mol2s += [i]*len(mol_coords)\n",
    "        disp = mol_coords - central_atom_coords # shape = (n_atoms,3)\n",
    "        dist2 = disp[:,0] * disp[:,0] + disp[:,1] * disp[:,1] + disp[:,2] * disp[:,2]\n",
    "        dist = np.sqrt(dist2) # shape = (n_atoms)\n",
    "        temp_dist.append(dist)\n",
    "        mol_coords = np.roll(mol_coords,-1,axis=0)\n",
    "    dists.append(temp_dist)\n",
    "dists = np.array(dists) # shape = (n_molecules,x_atoms,y_atoms) | where y in y_atoms = dist(atom_x_central, atom_y_mol_n)\n",
    "# Put distances in order of atom indices\n",
    "in_atom_order = np.array([dist.flatten('F') for dist in dists]).reshape(-1)\n",
    "d1 = dists.shape[0]\n",
    "d2 = dists.shape[1]\n",
    "arange = np.arange(d2)\n",
    "atom1s = np.concatenate([[x]*d2 for x in range(d2)]*d1)\n",
    "atom2s = np.concatenate([np.roll(arange,-x) for x in range(d2)]*d1)\n",
    "# Turn Atom Distances to DataFrame\n",
    "data_dict= {'mol1s':mol1s,'mol2s':mol2s,'atom1s':atom1s,'atom2s':atom2s,'dists':in_atom_order}\n",
    "atom_dist_df = pd.DataFrame(data_dict)\n",
    "atom_dist_df = atom_dist_df[atom_dist_df.mol1s != atom_dist_df.mol2s] # remove central molecule"
   ]
  },
  {
   "cell_type": "code",
   "execution_count": 7,
   "metadata": {},
   "outputs": [
    {
     "output_type": "stream",
     "name": "stderr",
     "text": [
      "/home/harry/Documents/PhD/crystal_interactions_finder_update/PYTHON/Geometry.py:39: RuntimeWarning: invalid value encountered in arccos\n  A = np.degrees(np.arccos(d))\n"
     ]
    }
   ],
   "source": [
    "# Calculate Molecular Distances, Angles, Displacement\n",
    "all_mols = []\n",
    "for mol in acenes:\n",
    "    all_mols.append(mol.centre_of_geometry())\n",
    "all_mols = np.array(all_mols)\n",
    "cog_disps = []\n",
    "cog_dists = []\n",
    "cog_mol1s = []\n",
    "cog_mol2s = []\n",
    "interplanar_angles = []\n",
    "unit_cell_disps = []\n",
    "planes = []\n",
    "# Rather than making new planes every loop, make the set of planes once\n",
    "for mol in acenes:\n",
    "    planes.append(Plane(mol.get_backbone().atoms))\n",
    "# Loop through all pairs of molecules\n",
    "for i, arr1 in enumerate(all_mols[:-1]):\n",
    "    for j, arr2 in enumerate(all_mols[i+1:],i+1):\n",
    "        interplanar_angles.append((planes[i].plane_angle(planes[j])))\n",
    "        cog_mol1s.append(i)\n",
    "        cog_mol2s.append(j)\n",
    "        disp = arr2 - arr1\n",
    "        unit_cell_disps.append(disp)\n",
    "        dist = np.sqrt(disp.dot(disp))\n",
    "        cog_disps.append(disp)\n",
    "        cog_dists.append(dist)\n",
    "# Turn lists to arrays      \n",
    "unit_cell_disps = np.array(unit_cell_disps)        \n",
    "cog_dists = np.array(cog_dists)\n",
    "# Create Molecule Geometry to DataFrame\n",
    "data_dict= {'mol1s':cog_mol1s,'mol2s':cog_mol2s,\n",
    "            'a':unit_cell_disps[:,0],'b':unit_cell_disps[:,1],'c':unit_cell_disps[:,2],\n",
    "            'dists':cog_dists,'interplanar_angles':interplanar_angles}\n",
    "df_cogs = np.round(pd.DataFrame(data_dict).set_index(['mol1s','mol2s']),3)"
   ]
  },
  {
   "cell_type": "code",
   "execution_count": 20,
   "metadata": {},
   "outputs": [],
   "source": [
    "# Calculate Interactions for atom pairs whose distance is less than 6A\n",
    "atom_contacts = []\n",
    "red_df = atom_dist_df.loc[atom_dist_df.dists < 6]\n",
    "for idx in red_df.index:\n",
    "    mol1_idx = red_df.at[idx,'mol1s']\n",
    "    mol2_idx = red_df.at[idx,'mol2s']\n",
    "    atom1_idx = red_df.at[idx,'atom1s']\n",
    "    atom2_idx = red_df.at[idx,'atom2s']\n",
    "    atom1 = acenes[mol1_idx].atoms[atom1_idx]\n",
    "    atom2 = acenes[mol2_idx].atoms[atom2_idx]\n",
    "    coords1 = atom1.coordinates\n",
    "    coords2 = atom2.coordinates\n",
    "    interaction = Interaction(atom1,atom2,bases[mol1_idx])\n",
    "    atom_contact = {'mol1s':mol1_idx,'mol2s':mol2_idx,'atom1s':atom1_idx,'atom2s':atom2_idx,\n",
    "                    'a1':coords1[0],'b1':coords1[1],'c1':coords1[2],\n",
    "                    'a2':coords2[0],'b2':coords2[1],'c2':coords2[2]}\n",
    "    atom_contact.update(interaction.to_dict())\n",
    "    atom_contacts.append(atom_contact)\n",
    "ac_df = pd.DataFrame(atom_contacts).set_index(['mol1s','mol2s'])\n",
    "# Add to df_cogs\n",
    "hbond_bond = pd.DataFrame(ac_df.groupby(ac_df.index)['hydrogen_bond'].sum()).set_index(ac_df.index.unique())\n",
    "pi_pi_bond = pd.DataFrame(ac_df.groupby(ac_df.index)['pi_pi_bond'].sum()).set_index(ac_df.index.unique())\n",
    "halogen_bond = pd.DataFrame(ac_df.groupby(ac_df.index)['halogen_bond'].sum()).set_index(ac_df.index.unique())\n",
    "ch_pi_bond = pd.DataFrame(ac_df.groupby(ac_df.index)['ch_pi_bond'].sum()).set_index(ac_df.index.unique())\n",
    "hydrophobic_bond = pd.DataFrame(ac_df.groupby(ac_df.index)['hydrophobic_cc_bond'].sum()).set_index(ac_df.index.unique())\n",
    "vdw_contact = pd.DataFrame(ac_df.groupby(ac_df.index)['vdw_contact'].sum()).set_index(ac_df.index.unique())\n",
    "fin_df = pd.concat([df_cogs,vdw_contact,hbond_bond,pi_pi_bond,halogen_bond,ch_pi_bond,\n",
    "                    hydrophobic_bond],axis=1)\n",
    "ac_df.to_csv(f'test_atom_interactions.csv',index=True)\n",
    "fin_df.to_csv(f'test_molecule_interactions.csv',index=True)"
   ]
  },
  {
   "source": [
    "# Visualisation"
   ],
   "cell_type": "markdown",
   "metadata": {}
  },
  {
   "cell_type": "code",
   "execution_count": 26,
   "metadata": {},
   "outputs": [],
   "source": [
    "atom_interactions = pd.read_csv('test_atom_interactions.csv')\n",
    "molecule_interactions = pd.read_csv('test_molecule_interactions.csv')"
   ]
  },
  {
   "cell_type": "code",
   "execution_count": 49,
   "metadata": {},
   "outputs": [],
   "source": [
    "def create_crystal_graph(molecule_interactions,consider_interactions='all',include_translation='True'):\n",
    "    # Includes translational motifs even if the molecules do not form intermolecular interactions\n",
    "    summary_df = pd.DataFrame()\n",
    "    idx1 = molecule_interactions.mol1s[0]\n",
    "    mol_interactions = molecule_interactions.set_index(['mol1s','mol2s'])\n",
    "    mol_interactions.fillna(0,inplace=True)\n",
    "    g = nx.Graph()\n",
    "    g.add_node(idx1,pos=np.array([0,0,0]))\n",
    "    for idx in mol_interactions.index:\n",
    "        disp = mol_interactions.loc[idx,['a','b','c']].values\n",
    "        if consider_interactions == 'all':\n",
    "            interactions = mol_interactions.loc[idx,['vdw_contact','hydrogen_bond','pi_pi_bond',\n",
    "                                                         'halogen_bond','ch_pi_bond','hydrophobic_cc_bond']]\n",
    "        else:\n",
    "            interactions = mol_interactions.loc[idx,consider_interactions]\n",
    "        angle = mol_interactions.at[idx,'interplanar_angles']\n",
    "        if idx[1] not in g:\n",
    "            g.add_node(idx[1],pos=disp)\n",
    "        if include_translation:\n",
    "            if ((np.sum(interactions.values) > 0) | (np.sum(np.isin(np.abs(disp),0)) == 2)):\n",
    "                info = interactions.to_dict()\n",
    "                info.update({'angle':np.round(angle,-1)})\n",
    "                g.add_edge(idx[0],idx[1],info=info)      \n",
    "        else:\n",
    "            if np.sum(interactions.values) > 0:\n",
    "                info = interactions.to_dict()\n",
    "                info.update({'angle':np.round(angle,-1)})\n",
    "                g.add_edge(idx[0],idx[1],info=info)\n",
    "            \n",
    "    return g"
   ]
  },
  {
   "cell_type": "code",
   "execution_count": 43,
   "metadata": {},
   "outputs": [],
   "source": [
    "def network_plot_3D(G, angle, save=False):\n",
    "    colours = ['black',\n",
    "               'firebrick',\n",
    "               'sandybrown',\n",
    "               'orange',\n",
    "               'gold',\n",
    "               'lawngreen',\n",
    "               'forestgreen',\n",
    "               'mediumturquoise'\n",
    "               'dodgerblue',\n",
    "               'lightslategray',\n",
    "               'navy',\n",
    "               'blueviolet',\n",
    "               'fuchsia',\n",
    "               'pink']\n",
    "    # Get node positions\n",
    "    pos = nx.get_node_attributes(G, 'pos')\n",
    "    # Get number of nodes\n",
    "    n = G.number_of_nodes()\n",
    "    # Get the maximum number of edges adjacent to a single node\n",
    "    edge_max = max([G.degree(key) for key in pos.keys()])\n",
    "    # Define color range proportional to number of edges adjacent to a single node\n",
    "    colors = [plt.cm.plasma(G.degree(key)/edge_max) for key in pos.keys()] \n",
    "    # Get edge type indices for each edge\n",
    "    unique_edges = []\n",
    "    edge_info = []\n",
    "    for x in G.edges.data('info'):\n",
    "        unique_edges.append(x[2]) if x[2] not in edge_info else 0 \n",
    "        edge_info.append(x[2])\n",
    "    edge_types = [unique_edges.index(edge[2]) for edge in G.edges.data('info')]\n",
    "    # 3D network plot\n",
    "    with plt.style.context(('ggplot')):\n",
    "        \n",
    "        fig = plt.figure(figsize=(12,8),dpi=100)\n",
    "        ax = Axes3D(fig)\n",
    "        \n",
    "        # Loop on the pos dictionary to extract the x,y,z coordinates of each node\n",
    "        counter = 0\n",
    "        \n",
    "        for key, value in pos.items():\n",
    "            xi = value[0]\n",
    "            yi = value[1]\n",
    "            zi = value[2]\n",
    "            \n",
    "            # Scatter plot\n",
    "            ax.scatter(xi, yi, zi, color='black', s=20, edgecolors='k', alpha=0.7)\n",
    "            counter += 1\n",
    "        \n",
    "        # Loop on the list of edges to get the x,y,z, coordinates of the connected nodes\n",
    "        # Those two points are the extrema of the line to be plotted\n",
    "        edges_encountered = []\n",
    "        for i,j in enumerate(G.edges()):\n",
    "            x = np.array((pos[j[0]][0], pos[j[1]][0]))\n",
    "            y = np.array((pos[j[0]][1], pos[j[1]][1]))\n",
    "            z = np.array((pos[j[0]][2], pos[j[1]][2]))\n",
    "        \n",
    "        # Plot the connecting lines\n",
    "            if edge_types[i] not in edges_encountered:\n",
    "                ax.plot(x, y, z, c=colours[edge_types[i]],alpha=0.5, label=edge_info[i])\n",
    "                edges_encountered.append(edge_types[i])\n",
    "            else:\n",
    "                ax.plot(x, y, z, c=colours[edge_types[i]], alpha=0.5)\n",
    "        plt.legend()\n",
    "    \n",
    "    # Set the initial view\n",
    "    ax.view_init(30, angle)\n",
    "    # Hide the axes\n",
    "    \n",
    "    plt.show()\n",
    "    \n",
    "    return"
   ]
  },
  {
   "cell_type": "code",
   "execution_count": 51,
   "metadata": {},
   "outputs": [],
   "source": [
    "G = create_crystal_graph(molecule_interactions,consider_interactions=['pi_pi_bond'],include_translation=False)"
   ]
  },
  {
   "cell_type": "code",
   "execution_count": 52,
   "metadata": {},
   "outputs": [
    {
     "output_type": "execute_result",
     "data": {
      "text/plain": [
       "1"
      ]
     },
     "metadata": {},
     "execution_count": 52
    }
   ],
   "source": [
    "max([G.degree(node) for node in G.nodes])"
   ]
  },
  {
   "cell_type": "code",
   "execution_count": 53,
   "metadata": {},
   "outputs": [
    {
     "output_type": "stream",
     "name": "stdout",
     "text": [
      "[{'pi_pi_bond': 10.0, 'angle': 0.0}]\n1\n"
     ]
    }
   ],
   "source": [
    "edge_info = []\n",
    "for x in G.edges.data('info'):\n",
    "    edge_info.append(x[2]) if x[2] not in edge_info else 0 \n",
    "print(edge_info)\n",
    "print(len(edge_info))"
   ]
  },
  {
   "cell_type": "code",
   "execution_count": 56,
   "metadata": {},
   "outputs": [],
   "source": [
    "network_plot_3D(G, 0, save=False)"
   ]
  },
  {
   "cell_type": "code",
   "execution_count": null,
   "metadata": {},
   "outputs": [],
   "source": []
  }
 ],
 "metadata": {
  "kernelspec": {
   "name": "python379jvsc74a57bd0879019ad680e33f031f59461e5c0e9ca291a5fbebdf3baac6f0bbee67754ec62",
   "display_name": "Python 3.7.9 64-bit ('mlchem': conda)"
  },
  "language_info": {
   "codemirror_mode": {
    "name": "ipython",
    "version": 3
   },
   "file_extension": ".py",
   "mimetype": "text/x-python",
   "name": "python",
   "nbconvert_exporter": "python",
   "pygments_lexer": "ipython3",
   "version": "3.7.9"
  }
 },
 "nbformat": 4,
 "nbformat_minor": 5
}